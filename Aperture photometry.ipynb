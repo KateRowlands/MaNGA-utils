{
 "cells": [
  {
   "cell_type": "code",
   "execution_count": 1,
   "metadata": {
    "hideCode": false,
    "hidePrompt": false
   },
   "outputs": [
    {
     "name": "stdout",
     "output_type": "stream",
     "text": [
      "INFO: No release version set. Setting default to MPL-6\n"
     ]
    }
   ],
   "source": [
    "import numpy as np\n",
    "from matplotlib import pyplot as plt\n",
    "from photutils import EllipticalAnnulus\n",
    "import marvin\n",
    "from marvin.tools.maps import Maps\n",
    "from marvin.tools.cube import Cube"
   ]
  },
  {
   "cell_type": "markdown",
   "metadata": {},
   "source": [
    "# Stacking example"
   ]
  },
  {
   "cell_type": "code",
   "execution_count": 2,
   "metadata": {
    "hideCode": false,
    "hidePrompt": false,
    "scrolled": true
   },
   "outputs": [],
   "source": [
    "maps = Maps(plateifu='7443-12701')\n",
    "\n",
    "nsa_elpetro_ba = maps.nsa['elpetro_ba']\n",
    "nsa_elpetro_phi = maps.nsa['elpetro_phi']"
   ]
  },
  {
   "cell_type": "code",
   "execution_count": 3,
   "metadata": {
    "hideCode": false,
    "hidePrompt": false
   },
   "outputs": [],
   "source": [
    "#Get the map dimensions\n",
    "haflux = maps.getMap('emline_gflux', channel='ha_6564')\n",
    "\n",
    "y = (haflux.shape[0]-1)/2\n",
    "x = (haflux.shape[1]-1)/2\n",
    "\n",
    "#Set inner and outer major and minor axis ratio\n",
    "ellip_ap_radius_pix_in_major = 5.\n",
    "ellip_ap_radius_pix_out_major = 15.\n",
    "ellip_ap_radius_pix_out_minor = nsa_elpetro_ba * ellip_ap_radius_pix_out_major\n",
    "\n",
    "#The rotation angle in radians of the semimajor axis from the\n",
    "#positive x axis. The rotation angle increases counterclockwise.\n",
    "#nsa_elpetro_phi is Angle (E of N) - needs -90 to make the right way up.\n",
    "theta = np.radians(nsa_elpetro_phi-90.)"
   ]
  },
  {
   "cell_type": "code",
   "execution_count": 4,
   "metadata": {
    "hideCode": false,
    "hidePrompt": false
   },
   "outputs": [],
   "source": [
    "#Function to return an elliptical aperture mask\n",
    "def getAperture(x, y, ellip_ap_radius_pix_in_major, ellip_ap_radius_pix_out_major, ellip_ap_radius_pix_out_minor, \\\n",
    "                theta):\n",
    "\n",
    "    ellipical_annuli = EllipticalAnnulus([x,y], ellip_ap_radius_pix_in_major, ellip_ap_radius_pix_out_major, \\\n",
    "                                         ellip_ap_radius_pix_out_minor, theta) #In pixels\n",
    "    masks_ellipical = ellipical_annuli.to_mask(method='exact')\n",
    "    mask_ellipical = masks_ellipical[0] #Because masks is a list (even if it has one element)\n",
    "            \n",
    "    return mask_ellipical\n"
   ]
  },
  {
   "cell_type": "code",
   "execution_count": 5,
   "metadata": {
    "hideCode": false,
    "hidePrompt": false
   },
   "outputs": [],
   "source": [
    "mask_ellipical = getAperture(x, y, ellip_ap_radius_pix_in_major, ellip_ap_radius_pix_out_major, \\\n",
    "                             ellip_ap_radius_pix_out_minor, theta)"
   ]
  },
  {
   "cell_type": "code",
   "execution_count": 6,
   "metadata": {
    "hideCode": false,
    "hidePrompt": false
   },
   "outputs": [],
   "source": [
    "#Apply mask to a map\n",
    "ha_cutout = mask_ellipical.cutout(haflux.value)"
   ]
  },
  {
   "cell_type": "code",
   "execution_count": 7,
   "metadata": {
    "hideCode": false,
    "hidePrompt": false
   },
   "outputs": [
    {
     "name": "stdout",
     "output_type": "stream",
     "text": [
      "63.16954952900001\n"
     ]
    }
   ],
   "source": [
    "#Sum map\n",
    "print np.sum(ha_cutout)"
   ]
  },
  {
   "cell_type": "code",
   "execution_count": null,
   "metadata": {
    "hideCode": false,
    "hidePrompt": false
   },
   "outputs": [],
   "source": [
    "cc = maps.getCube()\n",
    "waverest = cc.flux.wavelength/(1.+cc.nsa['z'])\n",
    "flux = cc.flux"
   ]
  },
  {
   "cell_type": "markdown",
   "metadata": {},
   "source": [
    "# Example of stacking"
   ]
  },
  {
   "cell_type": "code",
   "execution_count": null,
   "metadata": {
    "hideCode": false,
    "hidePrompt": false
   },
   "outputs": [],
   "source": [
    "#Get mask in the right shape to apply to flux cube.\n",
    "tmp = np.zeros((flux.shape[1], flux.shape[2]))\n",
    "tmp[mask_ellipical.bbox.slices[0].start:mask_ellipical.bbox.slices[0].stop, \\\n",
    "     mask_ellipical.bbox.slices[1].start:mask_ellipical.bbox.slices[1].stop] = mask_ellipical.data\n",
    "totmask = tmp.reshape((-1, flux.shape[1], flux.shape[2]))\n",
    "\n",
    "#Apply mask\n",
    "masked_fluxrest = totmask * flux\n",
    "\n",
    "#Stack MaNGA spectra\n",
    "flux_reshaped = np.reshape(masked_fluxrest, (len(waverest), -1))\n",
    "flux_stack = np.sum(flux_reshaped, axis=1)"
   ]
  },
  {
   "cell_type": "code",
   "execution_count": null,
   "metadata": {},
   "outputs": [],
   "source": [
    "plt.plot(waverest, flux_stack.value)\n",
    "plt.xlim(3700.,4500)\n",
    "plt.ylim(0, 70)\n",
    "plt.show()"
   ]
  },
  {
   "cell_type": "code",
   "execution_count": null,
   "metadata": {},
   "outputs": [],
   "source": []
  }
 ],
 "metadata": {
  "hide_code_all_hidden": false,
  "kernelspec": {
   "display_name": "Python 2",
   "language": "python",
   "name": "python2"
  },
  "language_info": {
   "codemirror_mode": {
    "name": "ipython",
    "version": 2
   },
   "file_extension": ".py",
   "mimetype": "text/x-python",
   "name": "python",
   "nbconvert_exporter": "python",
   "pygments_lexer": "ipython2",
   "version": "2.7.14"
  }
 },
 "nbformat": 4,
 "nbformat_minor": 2
}
